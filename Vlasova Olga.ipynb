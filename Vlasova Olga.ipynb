{
 "cells": [
  {
   "cell_type": "markdown",
   "metadata": {},
   "source": [
    "# Google Play Store Apps\n",
    "\n",
    "Источник данных – датасет Google Play Store Apps (https://www.kaggle.com/lava18/google-play-store-apps). Он содержит 2 таблицы, из них будет использоваться только первая - googleplaystore. Она включает 13 переменных, описывающих приложения в Google Play: \n",
    "\n",
    "App – название приложения\n",
    "Category - категория\n",
    "Rating – рейтинг приложения\n",
    "Reviews – число отзывов пользователей\n",
    "Size – размер приложения\n",
    "Installs – число установок приложения\n",
    "Type – платное или бесплатное\n",
    "Price - цена\n",
    "Content Rating – возрастной рейтинг (Children / Mature 21+ / Adult)\n",
    "Genres – жанры (кроме основной категории)\n",
    "Last Updated – дата последнего обновления\n",
    "Current Ver – текущая версия приложения\n",
    "Android Ver – минимальная требуемая версия Android\n",
    "\n",
    "В магазине Play Store у приложения есть два основных показателя успешности - это количество загрузок и пользовательский рейтинг. Для разработчика, выпускающего приложения, необходимо знать, какие факторы могут оказать влияние на успех его продукта, особенно важны те, на которые он может повлиять.\n",
    "#### Задача исследования\n",
    "- Ответить на вопрос: какие приложения становятся популярными? \n",
    "- Построить модель, предсказазывающую количество загрузок (Installs)"
   ]
  },
  {
   "cell_type": "code",
   "execution_count": 22,
   "metadata": {
    "scrolled": true
   },
   "outputs": [],
   "source": [
    "# Загружаем библиотеки\n",
    "import numpy as np # работа с векторами\n",
    "import matplotlib.pyplot as plt # рисовать графики\n",
    "import seaborn as sns\n",
    "import pandas as pd # для работы с матрицами\n",
    "import os as os #для смены директории\n",
    "\n",
    "# Установим директорию для загрузки данных для модели\n",
    "os.chdir('C:/Users/Asus/Desktop/magic/data_an/data')\n",
    "\n",
    "# загружаем данные\n",
    "df = pd.read_csv('googleplaystore.csv')"
   ]
  },
  {
   "cell_type": "markdown",
   "metadata": {},
   "source": [
    "Посмотрим на содержимое датасета"
   ]
  },
  {
   "cell_type": "code",
   "execution_count": 23,
   "metadata": {},
   "outputs": [
    {
     "name": "stdout",
     "output_type": "stream",
     "text": [
      "<class 'pandas.core.frame.DataFrame'>\n",
      "RangeIndex: 10841 entries, 0 to 10840\n",
      "Data columns (total 13 columns):\n",
      "App               10841 non-null object\n",
      "Category          10841 non-null object\n",
      "Rating            9367 non-null float64\n",
      "Reviews           10841 non-null object\n",
      "Size              10841 non-null object\n",
      "Installs          10841 non-null object\n",
      "Type              10840 non-null object\n",
      "Price             10841 non-null object\n",
      "Content Rating    10840 non-null object\n",
      "Genres            10841 non-null object\n",
      "Last Updated      10841 non-null object\n",
      "Current Ver       10833 non-null object\n",
      "Android Ver       10838 non-null object\n",
      "dtypes: float64(1), object(12)\n",
      "memory usage: 1.1+ MB\n"
     ]
    },
    {
     "data": {
      "text/html": [
       "<div>\n",
       "<style scoped>\n",
       "    .dataframe tbody tr th:only-of-type {\n",
       "        vertical-align: middle;\n",
       "    }\n",
       "\n",
       "    .dataframe tbody tr th {\n",
       "        vertical-align: top;\n",
       "    }\n",
       "\n",
       "    .dataframe thead th {\n",
       "        text-align: right;\n",
       "    }\n",
       "</style>\n",
       "<table border=\"1\" class=\"dataframe\">\n",
       "  <thead>\n",
       "    <tr style=\"text-align: right;\">\n",
       "      <th></th>\n",
       "      <th>App</th>\n",
       "      <th>Category</th>\n",
       "      <th>Rating</th>\n",
       "      <th>Reviews</th>\n",
       "      <th>Size</th>\n",
       "      <th>Installs</th>\n",
       "      <th>Type</th>\n",
       "      <th>Price</th>\n",
       "      <th>Content Rating</th>\n",
       "      <th>Genres</th>\n",
       "      <th>Last Updated</th>\n",
       "      <th>Current Ver</th>\n",
       "      <th>Android Ver</th>\n",
       "    </tr>\n",
       "  </thead>\n",
       "  <tbody>\n",
       "    <tr>\n",
       "      <th>0</th>\n",
       "      <td>Photo Editor &amp; Candy Camera &amp; Grid &amp; ScrapBook</td>\n",
       "      <td>ART_AND_DESIGN</td>\n",
       "      <td>4.1</td>\n",
       "      <td>159</td>\n",
       "      <td>19M</td>\n",
       "      <td>10,000+</td>\n",
       "      <td>Free</td>\n",
       "      <td>0</td>\n",
       "      <td>Everyone</td>\n",
       "      <td>Art &amp; Design</td>\n",
       "      <td>January 7, 2018</td>\n",
       "      <td>1.0.0</td>\n",
       "      <td>4.0.3 and up</td>\n",
       "    </tr>\n",
       "    <tr>\n",
       "      <th>1</th>\n",
       "      <td>Coloring book moana</td>\n",
       "      <td>ART_AND_DESIGN</td>\n",
       "      <td>3.9</td>\n",
       "      <td>967</td>\n",
       "      <td>14M</td>\n",
       "      <td>500,000+</td>\n",
       "      <td>Free</td>\n",
       "      <td>0</td>\n",
       "      <td>Everyone</td>\n",
       "      <td>Art &amp; Design;Pretend Play</td>\n",
       "      <td>January 15, 2018</td>\n",
       "      <td>2.0.0</td>\n",
       "      <td>4.0.3 and up</td>\n",
       "    </tr>\n",
       "    <tr>\n",
       "      <th>2</th>\n",
       "      <td>U Launcher Lite – FREE Live Cool Themes, Hide ...</td>\n",
       "      <td>ART_AND_DESIGN</td>\n",
       "      <td>4.7</td>\n",
       "      <td>87510</td>\n",
       "      <td>8.7M</td>\n",
       "      <td>5,000,000+</td>\n",
       "      <td>Free</td>\n",
       "      <td>0</td>\n",
       "      <td>Everyone</td>\n",
       "      <td>Art &amp; Design</td>\n",
       "      <td>August 1, 2018</td>\n",
       "      <td>1.2.4</td>\n",
       "      <td>4.0.3 and up</td>\n",
       "    </tr>\n",
       "  </tbody>\n",
       "</table>\n",
       "</div>"
      ],
      "text/plain": [
       "                                                 App        Category  Rating  \\\n",
       "0     Photo Editor & Candy Camera & Grid & ScrapBook  ART_AND_DESIGN     4.1   \n",
       "1                                Coloring book moana  ART_AND_DESIGN     3.9   \n",
       "2  U Launcher Lite – FREE Live Cool Themes, Hide ...  ART_AND_DESIGN     4.7   \n",
       "\n",
       "  Reviews  Size    Installs  Type Price Content Rating  \\\n",
       "0     159   19M     10,000+  Free     0       Everyone   \n",
       "1     967   14M    500,000+  Free     0       Everyone   \n",
       "2   87510  8.7M  5,000,000+  Free     0       Everyone   \n",
       "\n",
       "                      Genres      Last Updated Current Ver   Android Ver  \n",
       "0               Art & Design   January 7, 2018       1.0.0  4.0.3 and up  \n",
       "1  Art & Design;Pretend Play  January 15, 2018       2.0.0  4.0.3 and up  \n",
       "2               Art & Design    August 1, 2018       1.2.4  4.0.3 and up  "
      ]
     },
     "execution_count": 23,
     "metadata": {},
     "output_type": "execute_result"
    }
   ],
   "source": [
    "df.info() \n",
    "\n",
    "df.head(3)"
   ]
  },
  {
   "cell_type": "markdown",
   "metadata": {},
   "source": [
    "## Подготовка данных\n",
    "\n",
    "Из описания данных видим, что почти все имеют тип objext. Часть из них можно представить в количественном выражении, а часть можно удалить прямо сейчас, чтобы не мешались.\n",
    "\n",
    "#### Удаляем:\n",
    "\n",
    "- Type (free/paid) - т.к. можно отслеживать Price.\n",
    "- Last Updated, Current Ver и Android Ver - показывают актуальность приложения. Удаляем, т.к. наша цель - предсказывать успешность новых приложений, которые изначально являются актуальными (т.к. разработчики стремятся выпускать приложения для самых новых версий Android).\n",
    "- Genres - содержит 114 категорий, такое число сложно использовать для создания dummy-переменных, а если группировать, то группы будут совпадать с категориями в Category.\n"
   ]
  },
  {
   "cell_type": "code",
   "execution_count": 24,
   "metadata": {},
   "outputs": [],
   "source": [
    "df.drop([\"Type\",\"Genres\",\"Last Updated\",\"Current Ver\",\"Android Ver\",], axis=1, inplace=True)"
   ]
  },
  {
   "cell_type": "markdown",
   "metadata": {},
   "source": [
    "В Rating и Content Rating есть пропущенные значения.\n",
    "Удалим пропуски, поскольку датасет и без них достаточно объемный. Также удалим дубликаты."
   ]
  },
  {
   "cell_type": "code",
   "execution_count": 25,
   "metadata": {},
   "outputs": [],
   "source": [
    "df.dropna(inplace = True)\n",
    "df.drop_duplicates(subset='App', inplace=True)"
   ]
  },
  {
   "cell_type": "markdown",
   "metadata": {},
   "source": [
    "Поработаем с переменными, которые можно привести к числовому типу данных: Reviews, Size, Installs, Price.\n",
    "\n",
    "Для Reviews можно просто ипользовать приведение типов."
   ]
  },
  {
   "cell_type": "code",
   "execution_count": 26,
   "metadata": {},
   "outputs": [],
   "source": [
    "df['Reviews'] = pd.to_numeric(df['Reviews'])"
   ]
  },
  {
   "cell_type": "markdown",
   "metadata": {},
   "source": [
    "Посмотрим на size:"
   ]
  },
  {
   "cell_type": "code",
   "execution_count": 27,
   "metadata": {
    "scrolled": true
   },
   "outputs": [
    {
     "data": {
      "text/plain": [
       "array(['19M', '14M', '8.7M', '25M', '2.8M', '5.6M', '29M', '33M', '3.1M',\n",
       "       '28M', '12M', '20M', '21M', '37M', '2.7M', '5.5M', '17M', '39M',\n",
       "       '31M', '4.2M', '23M', '6.0M', '6.1M', '4.6M', '9.2M', '5.2M',\n",
       "       '11M', '24M', 'Varies with device', '9.4M'], dtype=object)"
      ]
     },
     "execution_count": 27,
     "metadata": {},
     "output_type": "execute_result"
    }
   ],
   "source": [
    "df['Size'].unique()[0:30]"
   ]
  },
  {
   "cell_type": "markdown",
   "metadata": {},
   "source": [
    "Переведем все размеры в мегабайты, 'Varies with device'  заменим на среднее значение размера в каждой категории."
   ]
  },
  {
   "cell_type": "code",
   "execution_count": 28,
   "metadata": {},
   "outputs": [],
   "source": [
    "df['Size'] = df['Size'].apply(lambda x: str(x).replace('M', '') if 'M' in str(x) else x)\n",
    "df['Size'] = df['Size'].apply(lambda x: float(str(x).replace('k', '')) / 1000 if 'k' in str(x) else x)\n",
    "\n",
    "df['Size'] = df['Size'].apply(lambda x: str(x).replace('Varies with device', 'NaN') if 'Varies with device' in str(x) else x)\n",
    "df['Size'] = df['Size'].apply(lambda x: float(x))\n",
    "\n",
    "df['Size'].fillna(df.groupby('Category')['Size'].transform('mean'), inplace = True)"
   ]
  },
  {
   "cell_type": "markdown",
   "metadata": {},
   "source": [
    "В Installs убираем \"+\" и запятые-разделители, У Price убираем знак $."
   ]
  },
  {
   "cell_type": "code",
   "execution_count": 29,
   "metadata": {},
   "outputs": [
    {
     "name": "stdout",
     "output_type": "stream",
     "text": [
      "<class 'pandas.core.frame.DataFrame'>\n",
      "Int64Index: 8196 entries, 0 to 10840\n",
      "Data columns (total 8 columns):\n",
      "App               8196 non-null object\n",
      "Category          8196 non-null object\n",
      "Rating            8196 non-null float64\n",
      "Reviews           8196 non-null int64\n",
      "Size              8196 non-null float64\n",
      "Installs          8196 non-null int64\n",
      "Price             8196 non-null float64\n",
      "Content Rating    8196 non-null object\n",
      "dtypes: float64(3), int64(2), object(3)\n",
      "memory usage: 576.3+ KB\n"
     ]
    }
   ],
   "source": [
    "df['Installs'] = df['Installs'].apply(lambda x: x.replace('+', '') if '+' in str(x) else x)\n",
    "df['Installs'] = df['Installs'].apply(lambda x: x.replace(',', '') if ',' in str(x) else x)\n",
    "df['Installs'] = df['Installs'].apply(lambda x: int(x))\n",
    "\n",
    "df['Price'] = df['Price'].apply(lambda x: str(x).replace('$', '') if '$' in str(x) else str(x))\n",
    "df['Price'] = df['Price'].apply(lambda x: float(x))\n",
    "df.info() "
   ]
  },
  {
   "cell_type": "markdown",
   "metadata": {},
   "source": [
    "## Разведочный анализ\n",
    "Для начала посмотрим характеристики целевой переменной.\n",
    "\n",
    "##### Installs.\n",
    "- Минимальное число загрузок в датасете: 1, максимальное: 1 000 000 000.\n",
    "- Cреднее: 9 165 090, медиана: 100 000.\n",
    "- Стандартное отклонение: 58 250 870.\n",
    "\n",
    "Пик распределения приходится на 0, т.е. большая часть приложений в датасете ни разу не скачивалась."
   ]
  },
  {
   "cell_type": "code",
   "execution_count": 30,
   "metadata": {},
   "outputs": [
    {
     "data": {
      "text/plain": [
       "count    8.196000e+03\n",
       "mean     9.165090e+06\n",
       "std      5.825087e+07\n",
       "min      1.000000e+00\n",
       "25%      1.000000e+04\n",
       "50%      1.000000e+05\n",
       "75%      1.000000e+06\n",
       "max      1.000000e+09\n",
       "Name: Installs, dtype: float64"
      ]
     },
     "execution_count": 30,
     "metadata": {},
     "output_type": "execute_result"
    }
   ],
   "source": [
    "df[\"Installs\"].describe()"
   ]
  },
  {
   "cell_type": "code",
   "execution_count": 31,
   "metadata": {},
   "outputs": [
    {
     "data": {
      "text/plain": [
       "1000000       1415\n",
       "100000        1094\n",
       "10000          987\n",
       "10000000       937\n",
       "1000           697\n",
       "5000000        607\n",
       "500000         504\n",
       "50000          457\n",
       "5000           425\n",
       "100            303\n",
       "50000000       202\n",
       "500            199\n",
       "100000000      188\n",
       "10              69\n",
       "50              56\n",
       "500000000       24\n",
       "1000000000      20\n",
       "5                9\n",
       "1                3\n",
       "Name: Installs, dtype: int64"
      ]
     },
     "execution_count": 31,
     "metadata": {},
     "output_type": "execute_result"
    }
   ],
   "source": [
    "df[\"Installs\"].value_counts()"
   ]
  },
  {
   "cell_type": "code",
   "execution_count": 32,
   "metadata": {},
   "outputs": [
    {
     "data": {
      "text/html": [
       "<div>\n",
       "<style scoped>\n",
       "    .dataframe tbody tr th:only-of-type {\n",
       "        vertical-align: middle;\n",
       "    }\n",
       "\n",
       "    .dataframe tbody tr th {\n",
       "        vertical-align: top;\n",
       "    }\n",
       "\n",
       "    .dataframe thead th {\n",
       "        text-align: right;\n",
       "    }\n",
       "</style>\n",
       "<table border=\"1\" class=\"dataframe\">\n",
       "  <thead>\n",
       "    <tr style=\"text-align: right;\">\n",
       "      <th></th>\n",
       "      <th>App</th>\n",
       "      <th>Category</th>\n",
       "      <th>Rating</th>\n",
       "      <th>Reviews</th>\n",
       "      <th>Size</th>\n",
       "      <th>Installs</th>\n",
       "      <th>Price</th>\n",
       "      <th>Content Rating</th>\n",
       "    </tr>\n",
       "  </thead>\n",
       "  <tbody>\n",
       "    <tr>\n",
       "      <th>152</th>\n",
       "      <td>Google Play Books</td>\n",
       "      <td>BOOKS_AND_REFERENCE</td>\n",
       "      <td>3.9</td>\n",
       "      <td>1433233</td>\n",
       "      <td>14.166809</td>\n",
       "      <td>1000000000</td>\n",
       "      <td>0.0</td>\n",
       "      <td>Teen</td>\n",
       "    </tr>\n",
       "    <tr>\n",
       "      <th>335</th>\n",
       "      <td>Messenger – Text and Video Chat for Free</td>\n",
       "      <td>COMMUNICATION</td>\n",
       "      <td>4.0</td>\n",
       "      <td>56642847</td>\n",
       "      <td>11.951723</td>\n",
       "      <td>1000000000</td>\n",
       "      <td>0.0</td>\n",
       "      <td>Everyone</td>\n",
       "    </tr>\n",
       "    <tr>\n",
       "      <th>336</th>\n",
       "      <td>WhatsApp Messenger</td>\n",
       "      <td>COMMUNICATION</td>\n",
       "      <td>4.4</td>\n",
       "      <td>69119316</td>\n",
       "      <td>11.951723</td>\n",
       "      <td>1000000000</td>\n",
       "      <td>0.0</td>\n",
       "      <td>Everyone</td>\n",
       "    </tr>\n",
       "    <tr>\n",
       "      <th>338</th>\n",
       "      <td>Google Chrome: Fast &amp; Secure</td>\n",
       "      <td>COMMUNICATION</td>\n",
       "      <td>4.3</td>\n",
       "      <td>9642995</td>\n",
       "      <td>11.951723</td>\n",
       "      <td>1000000000</td>\n",
       "      <td>0.0</td>\n",
       "      <td>Everyone</td>\n",
       "    </tr>\n",
       "    <tr>\n",
       "      <th>340</th>\n",
       "      <td>Gmail</td>\n",
       "      <td>COMMUNICATION</td>\n",
       "      <td>4.3</td>\n",
       "      <td>4604324</td>\n",
       "      <td>11.951723</td>\n",
       "      <td>1000000000</td>\n",
       "      <td>0.0</td>\n",
       "      <td>Everyone</td>\n",
       "    </tr>\n",
       "  </tbody>\n",
       "</table>\n",
       "</div>"
      ],
      "text/plain": [
       "                                          App             Category  Rating  \\\n",
       "152                         Google Play Books  BOOKS_AND_REFERENCE     3.9   \n",
       "335  Messenger – Text and Video Chat for Free        COMMUNICATION     4.0   \n",
       "336                        WhatsApp Messenger        COMMUNICATION     4.4   \n",
       "338              Google Chrome: Fast & Secure        COMMUNICATION     4.3   \n",
       "340                                     Gmail        COMMUNICATION     4.3   \n",
       "\n",
       "      Reviews       Size    Installs  Price Content Rating  \n",
       "152   1433233  14.166809  1000000000    0.0           Teen  \n",
       "335  56642847  11.951723  1000000000    0.0       Everyone  \n",
       "336  69119316  11.951723  1000000000    0.0       Everyone  \n",
       "338   9642995  11.951723  1000000000    0.0       Everyone  \n",
       "340   4604324  11.951723  1000000000    0.0       Everyone  "
      ]
     },
     "execution_count": 32,
     "metadata": {},
     "output_type": "execute_result"
    }
   ],
   "source": [
    "df[df.Installs > 500000000].head()"
   ]
  },
  {
   "cell_type": "markdown",
   "metadata": {},
   "source": [
    "##### Price\n"
   ]
  },
  {
   "cell_type": "code",
   "execution_count": 33,
   "metadata": {
    "scrolled": true
   },
   "outputs": [
    {
     "data": {
      "text/plain": [
       "count    8196.000000\n",
       "mean        1.037884\n",
       "std        16.857882\n",
       "min         0.000000\n",
       "25%         0.000000\n",
       "50%         0.000000\n",
       "75%         0.000000\n",
       "max       400.000000\n",
       "Name: Price, dtype: float64"
      ]
     },
     "execution_count": 33,
     "metadata": {},
     "output_type": "execute_result"
    }
   ],
   "source": [
    "df[\"Price\"].describe()"
   ]
  },
  {
   "cell_type": "markdown",
   "metadata": {},
   "source": [
    "В выборке есть приложения, которые стоят 400$. Это довольно большая стоимость для мобильного ПО, посмотрим на них поближе."
   ]
  },
  {
   "cell_type": "code",
   "execution_count": 34,
   "metadata": {},
   "outputs": [
    {
     "data": {
      "text/html": [
       "<div>\n",
       "<style scoped>\n",
       "    .dataframe tbody tr th:only-of-type {\n",
       "        vertical-align: middle;\n",
       "    }\n",
       "\n",
       "    .dataframe tbody tr th {\n",
       "        vertical-align: top;\n",
       "    }\n",
       "\n",
       "    .dataframe thead th {\n",
       "        text-align: right;\n",
       "    }\n",
       "</style>\n",
       "<table border=\"1\" class=\"dataframe\">\n",
       "  <thead>\n",
       "    <tr style=\"text-align: right;\">\n",
       "      <th></th>\n",
       "      <th>App</th>\n",
       "      <th>Category</th>\n",
       "      <th>Rating</th>\n",
       "      <th>Reviews</th>\n",
       "      <th>Size</th>\n",
       "      <th>Installs</th>\n",
       "      <th>Price</th>\n",
       "      <th>Content Rating</th>\n",
       "    </tr>\n",
       "  </thead>\n",
       "  <tbody>\n",
       "    <tr>\n",
       "      <th>4197</th>\n",
       "      <td>most expensive app (H)</td>\n",
       "      <td>FAMILY</td>\n",
       "      <td>4.3</td>\n",
       "      <td>6</td>\n",
       "      <td>1.500</td>\n",
       "      <td>100</td>\n",
       "      <td>399.99</td>\n",
       "      <td>Everyone</td>\n",
       "    </tr>\n",
       "    <tr>\n",
       "      <th>4362</th>\n",
       "      <td>💎 I'm rich</td>\n",
       "      <td>LIFESTYLE</td>\n",
       "      <td>3.8</td>\n",
       "      <td>718</td>\n",
       "      <td>26.000</td>\n",
       "      <td>10000</td>\n",
       "      <td>399.99</td>\n",
       "      <td>Everyone</td>\n",
       "    </tr>\n",
       "    <tr>\n",
       "      <th>4367</th>\n",
       "      <td>I'm Rich - Trump Edition</td>\n",
       "      <td>LIFESTYLE</td>\n",
       "      <td>3.6</td>\n",
       "      <td>275</td>\n",
       "      <td>7.300</td>\n",
       "      <td>10000</td>\n",
       "      <td>400.00</td>\n",
       "      <td>Everyone</td>\n",
       "    </tr>\n",
       "    <tr>\n",
       "      <th>5351</th>\n",
       "      <td>I am rich</td>\n",
       "      <td>LIFESTYLE</td>\n",
       "      <td>3.8</td>\n",
       "      <td>3547</td>\n",
       "      <td>1.800</td>\n",
       "      <td>100000</td>\n",
       "      <td>399.99</td>\n",
       "      <td>Everyone</td>\n",
       "    </tr>\n",
       "    <tr>\n",
       "      <th>5354</th>\n",
       "      <td>I am Rich Plus</td>\n",
       "      <td>FAMILY</td>\n",
       "      <td>4.0</td>\n",
       "      <td>856</td>\n",
       "      <td>8.700</td>\n",
       "      <td>10000</td>\n",
       "      <td>399.99</td>\n",
       "      <td>Everyone</td>\n",
       "    </tr>\n",
       "    <tr>\n",
       "      <th>5355</th>\n",
       "      <td>I am rich VIP</td>\n",
       "      <td>LIFESTYLE</td>\n",
       "      <td>3.8</td>\n",
       "      <td>411</td>\n",
       "      <td>2.600</td>\n",
       "      <td>10000</td>\n",
       "      <td>299.99</td>\n",
       "      <td>Everyone</td>\n",
       "    </tr>\n",
       "    <tr>\n",
       "      <th>5356</th>\n",
       "      <td>I Am Rich Premium</td>\n",
       "      <td>FINANCE</td>\n",
       "      <td>4.1</td>\n",
       "      <td>1867</td>\n",
       "      <td>4.700</td>\n",
       "      <td>50000</td>\n",
       "      <td>399.99</td>\n",
       "      <td>Everyone</td>\n",
       "    </tr>\n",
       "    <tr>\n",
       "      <th>5357</th>\n",
       "      <td>I am extremely Rich</td>\n",
       "      <td>LIFESTYLE</td>\n",
       "      <td>2.9</td>\n",
       "      <td>41</td>\n",
       "      <td>2.900</td>\n",
       "      <td>1000</td>\n",
       "      <td>379.99</td>\n",
       "      <td>Everyone</td>\n",
       "    </tr>\n",
       "    <tr>\n",
       "      <th>5358</th>\n",
       "      <td>I am Rich!</td>\n",
       "      <td>FINANCE</td>\n",
       "      <td>3.8</td>\n",
       "      <td>93</td>\n",
       "      <td>22.000</td>\n",
       "      <td>1000</td>\n",
       "      <td>399.99</td>\n",
       "      <td>Everyone</td>\n",
       "    </tr>\n",
       "    <tr>\n",
       "      <th>5359</th>\n",
       "      <td>I am rich(premium)</td>\n",
       "      <td>FINANCE</td>\n",
       "      <td>3.5</td>\n",
       "      <td>472</td>\n",
       "      <td>0.965</td>\n",
       "      <td>5000</td>\n",
       "      <td>399.99</td>\n",
       "      <td>Everyone</td>\n",
       "    </tr>\n",
       "    <tr>\n",
       "      <th>5362</th>\n",
       "      <td>I Am Rich Pro</td>\n",
       "      <td>FAMILY</td>\n",
       "      <td>4.4</td>\n",
       "      <td>201</td>\n",
       "      <td>2.700</td>\n",
       "      <td>5000</td>\n",
       "      <td>399.99</td>\n",
       "      <td>Everyone</td>\n",
       "    </tr>\n",
       "    <tr>\n",
       "      <th>5364</th>\n",
       "      <td>I am rich (Most expensive app)</td>\n",
       "      <td>FINANCE</td>\n",
       "      <td>4.1</td>\n",
       "      <td>129</td>\n",
       "      <td>2.700</td>\n",
       "      <td>1000</td>\n",
       "      <td>399.99</td>\n",
       "      <td>Teen</td>\n",
       "    </tr>\n",
       "    <tr>\n",
       "      <th>5366</th>\n",
       "      <td>I Am Rich</td>\n",
       "      <td>FAMILY</td>\n",
       "      <td>3.6</td>\n",
       "      <td>217</td>\n",
       "      <td>4.900</td>\n",
       "      <td>10000</td>\n",
       "      <td>389.99</td>\n",
       "      <td>Everyone</td>\n",
       "    </tr>\n",
       "    <tr>\n",
       "      <th>5369</th>\n",
       "      <td>I am Rich</td>\n",
       "      <td>FINANCE</td>\n",
       "      <td>4.3</td>\n",
       "      <td>180</td>\n",
       "      <td>3.800</td>\n",
       "      <td>5000</td>\n",
       "      <td>399.99</td>\n",
       "      <td>Everyone</td>\n",
       "    </tr>\n",
       "    <tr>\n",
       "      <th>5373</th>\n",
       "      <td>I AM RICH PRO PLUS</td>\n",
       "      <td>FINANCE</td>\n",
       "      <td>4.0</td>\n",
       "      <td>36</td>\n",
       "      <td>41.000</td>\n",
       "      <td>1000</td>\n",
       "      <td>399.99</td>\n",
       "      <td>Everyone</td>\n",
       "    </tr>\n",
       "  </tbody>\n",
       "</table>\n",
       "</div>"
      ],
      "text/plain": [
       "                                 App   Category  Rating  Reviews    Size  \\\n",
       "4197          most expensive app (H)     FAMILY     4.3        6   1.500   \n",
       "4362                      💎 I'm rich  LIFESTYLE     3.8      718  26.000   \n",
       "4367        I'm Rich - Trump Edition  LIFESTYLE     3.6      275   7.300   \n",
       "5351                       I am rich  LIFESTYLE     3.8     3547   1.800   \n",
       "5354                  I am Rich Plus     FAMILY     4.0      856   8.700   \n",
       "5355                   I am rich VIP  LIFESTYLE     3.8      411   2.600   \n",
       "5356               I Am Rich Premium    FINANCE     4.1     1867   4.700   \n",
       "5357             I am extremely Rich  LIFESTYLE     2.9       41   2.900   \n",
       "5358                      I am Rich!    FINANCE     3.8       93  22.000   \n",
       "5359              I am rich(premium)    FINANCE     3.5      472   0.965   \n",
       "5362                   I Am Rich Pro     FAMILY     4.4      201   2.700   \n",
       "5364  I am rich (Most expensive app)    FINANCE     4.1      129   2.700   \n",
       "5366                       I Am Rich     FAMILY     3.6      217   4.900   \n",
       "5369                       I am Rich    FINANCE     4.3      180   3.800   \n",
       "5373              I AM RICH PRO PLUS    FINANCE     4.0       36  41.000   \n",
       "\n",
       "      Installs   Price Content Rating  \n",
       "4197       100  399.99       Everyone  \n",
       "4362     10000  399.99       Everyone  \n",
       "4367     10000  400.00       Everyone  \n",
       "5351    100000  399.99       Everyone  \n",
       "5354     10000  399.99       Everyone  \n",
       "5355     10000  299.99       Everyone  \n",
       "5356     50000  399.99       Everyone  \n",
       "5357      1000  379.99       Everyone  \n",
       "5358      1000  399.99       Everyone  \n",
       "5359      5000  399.99       Everyone  \n",
       "5362      5000  399.99       Everyone  \n",
       "5364      1000  399.99           Teen  \n",
       "5366     10000  389.99       Everyone  \n",
       "5369      5000  399.99       Everyone  \n",
       "5373      1000  399.99       Everyone  "
      ]
     },
     "execution_count": 34,
     "metadata": {},
     "output_type": "execute_result"
    }
   ],
   "source": [
    "df.loc[df.Price > 100]"
   ]
  },
  {
   "cell_type": "markdown",
   "metadata": {},
   "source": [
    "Все эти приложения очень похожи друг на друга. Для среднего разработчика такие случаи, скорее всего, не интересны, поэтому уберем их и посмотрим на Price снова."
   ]
  },
  {
   "cell_type": "code",
   "execution_count": 36,
   "metadata": {},
   "outputs": [
    {
     "data": {
      "text/plain": [
       "count    8181.000000\n",
       "mean        0.322288\n",
       "std         1.931291\n",
       "min         0.000000\n",
       "25%         0.000000\n",
       "50%         0.000000\n",
       "75%         0.000000\n",
       "max        79.990000\n",
       "Name: Price, dtype: float64"
      ]
     },
     "execution_count": 36,
     "metadata": {},
     "output_type": "execute_result"
    }
   ],
   "source": [
    "df = df[df.Price < 100]\n",
    "df[\"Price\"].describe()\n",
    "\n",
    "#df.loc[df.Price == 0].count() = 7572"
   ]
  },
  {
   "cell_type": "markdown",
   "metadata": {},
   "source": [
    "- Минимальная цена: 0, максимальная: 79.99.\n",
    "- Cреднее: 0.32, медиана: 0.\n",
    "- Стандартное отклонение: 1.93.\n",
    "\n",
    "Из 8161 примеров в выборке 7572 приходится на бесплатные приложения, и всего 589 на платные. Бесплатные представлены слишком широко."
   ]
  },
  {
   "cell_type": "code",
   "execution_count": 37,
   "metadata": {},
   "outputs": [],
   "source": [
    "free = df.drop([\"Price\"], axis=1)\n",
    "paid = df[df.Price > 0]"
   ]
  },
  {
   "cell_type": "markdown",
   "metadata": {},
   "source": [
    "Построим график распределения загрузок и рейтинга."
   ]
  },
  {
   "cell_type": "code",
   "execution_count": 38,
   "metadata": {},
   "outputs": [
    {
     "data": {
      "text/plain": [
       "Text(0.5,1,'Ratng-Installs ')"
      ]
     },
     "execution_count": 38,
     "metadata": {},
     "output_type": "execute_result"
    },
    {
     "data": {
      "image/png": "[encoded data removed]",
      "text/plain": [
       "<Figure size 432x288 with 1 Axes>"
      ]
     },
     "metadata": {},
     "output_type": "display_data"
    }
   ],
   "source": [
    "g = sns.scatterplot(y=\"Installs\",x=\"Rating\", data=df, size = 20)\n",
    "plt.title('Ratng-Installs ',size = 16)"
   ]
  },
  {
   "cell_type": "markdown",
   "metadata": {},
   "source": [
    "Скачиваемые приложения имеют рейтинг от 3 до 4,9. Наиболее скачиваемые приложения (от 500 млн), имеют рейтинг от 4 до 4,8. Вывод: приложения, которые лучше удовлетворяют потребности пользователей, имеют большее число загрузок.\n",
    "\n",
    "Далее посмотрим количество приложений в каждой категории."
   ]
  },
  {
   "cell_type": "code",
   "execution_count": 39,
   "metadata": {},
   "outputs": [
    {
     "data": {
      "text/plain": [
       "Text(0.5,1,'')"
      ]
     },
     "execution_count": 39,
     "metadata": {},
     "output_type": "execute_result"
    },
    {
     "data": {
      "image/png": "[encoded data removed]",
      "text/plain": [
       "<Figure size 720x720 with 1 Axes>"
      ]
     },
     "metadata": {},
     "output_type": "display_data"
    }
   ],
   "source": [
    "plt.figure(figsize=(10,10))\n",
    "sns.countplot(y=\"Category\",data=df, palette = \"Set2\")\n",
    "plt.title('',size = 16)"
   ]
  },
  {
   "cell_type": "markdown",
   "metadata": {},
   "source": [
    "На графике ниже мы видим, что наибольшее число приложений имеют категории FAMILY, GAME и TOOLS.\n",
    "\n",
    "Теперь посмотрим распределение количества установок по категориям. Наиболее скачиваемыми являются приложения для коммуникации и социальные, видео-плееры и развлекательные. За ними идут приложения для продуктивности, для фото и игры."
   ]
  },
  {
   "cell_type": "code",
   "execution_count": 40,
   "metadata": {},
   "outputs": [
    {
     "data": {
      "image/png": "[encoded data removed]",
      "text/plain": [
       "<Figure size 720x720 with 1 Axes>"
      ]
     },
     "metadata": {},
     "output_type": "display_data"
    }
   ],
   "source": [
    "plt.figure(figsize=(10,10))\n",
    "g = sns.barplot(x=\"Installs\", y=\"Category\", data = df, capsize=.5)"
   ]
  },
  {
   "cell_type": "markdown",
   "metadata": {},
   "source": [
    "Сопоставив 2 графика, можем увидеть, что приложения для коммуникаций занимают не такую большую долю, но лидируют по скачиваемости. Вывод: скорее всего, есть зависимость от категории.\n",
    "\n",
    "Далее посмотрим график числа загрузок по цене для платных приложений. "
   ]
  },
  {
   "cell_type": "code",
   "execution_count": 41,
   "metadata": {},
   "outputs": [
    {
     "data": {
      "text/plain": [
       "Text(0.5,1,'Price - Installs (Paid)')"
      ]
     },
     "execution_count": 41,
     "metadata": {},
     "output_type": "execute_result"
    },
    {
     "data": {
      "image/png": "[encoded data removed]",
      "text/plain": [
       "<Figure size 576x288 with 1 Axes>"
      ]
     },
     "metadata": {},
     "output_type": "display_data"
    }
   ],
   "source": [
    "plt.figure(figsize=(8,4))\n",
    "g = sns.scatterplot(x=\"Price\", y=\"Installs\", data=paid)\n",
    "plt.title('Price - Installs (Paid)',size = 20)"
   ]
  },
  {
   "cell_type": "markdown",
   "metadata": {},
   "source": [
    "В основном скачивают приложения стоимостью до 20 долларов. Наибольшей популярностью пользуются приложения стоимостью от 0.99 до 8.\n",
    "\n",
    "Рассмотрим распределение числа загрузок в зависимости от размера приложения. "
   ]
  },
  {
   "cell_type": "code",
   "execution_count": 42,
   "metadata": {},
   "outputs": [
    {
     "data": {
      "text/plain": [
       "Text(0.5,1,'Size - Installs')"
      ]
     },
     "execution_count": 42,
     "metadata": {},
     "output_type": "execute_result"
    },
    {
     "data": {
      "image/png": "[encoded data removed]",
      "text/plain": [
       "<Figure size 576x288 with 1 Axes>"
      ]
     },
     "metadata": {},
     "output_type": "display_data"
    }
   ],
   "source": [
    "plt.figure(figsize=(8,4))\n",
    "g = sns.scatterplot(x=\"Size\", y=\"Installs\", data=df)\n",
    "plt.title('Size - Installs',size = 20)"
   ]
  },
  {
   "cell_type": "markdown",
   "metadata": {},
   "source": [
    "На основе графика можно предположить, что нет явной зависимости между размером приложения и числом загрузок. "
   ]
  },
  {
   "cell_type": "markdown",
   "metadata": {},
   "source": [
    "### Проверка гипотез\n",
    "\n",
    "Проверим зависимости переменных с помощью коэффициента корреляции Пирсона, результаты в виде корреляционной матрицы."
   ]
  },
  {
   "cell_type": "code",
   "execution_count": 43,
   "metadata": {},
   "outputs": [
    {
     "data": {
      "image/png": "[encoded data removed]",
      "text/plain": [
       "<Figure size 576x504 with 2 Axes>"
      ]
     },
     "metadata": {},
     "output_type": "display_data"
    }
   ],
   "source": [
    "fig,ax = plt.subplots(figsize=(8,7))\n",
    "ax = sns.heatmap(df.corr(), annot=True,linewidths=.5,fmt='.1f')\n",
    "plt.show()"
   ]
  },
  {
   "cell_type": "markdown",
   "metadata": {},
   "source": [
    "На ней можем увидеть сильную и довольно очевидную зависимость между числом загрузок (Installs) и отзывов (Reviews) - чем больше людей скачивает, тем больше отзывов."
   ]
  },
  {
   "cell_type": "markdown",
   "metadata": {},
   "source": [
    "Для этой матрицы корреляции рассчитывались методом Пирсона. Однако, данные в Installs имеют порядковый характер, в связи с чем имеет смысл использовать коэффициент Спирмена. "
   ]
  },
  {
   "cell_type": "code",
   "execution_count": 44,
   "metadata": {},
   "outputs": [
    {
     "data": {
      "image/png": "[encoded data removed]",
      "text/plain": [
       "<Figure size 576x504 with 2 Axes>"
      ]
     },
     "metadata": {},
     "output_type": "display_data"
    }
   ],
   "source": [
    "fig,ax = plt.subplots(figsize=(8,7))\n",
    "ax = sns.heatmap(df.corr('spearman'), annot=True,linewidths=.5,fmt='.1f')\n",
    "plt.show()"
   ]
  },
  {
   "cell_type": "markdown",
   "metadata": {},
   "source": [
    "Данный метод показал наличие небольшой прямой взаимосвязи между числом загрузок и размером приложения (0,3), и такой же силы обратную взаимосвязь с ценой приложения."
   ]
  },
  {
   "cell_type": "markdown",
   "metadata": {},
   "source": [
    "## Построение моделей\n",
    "Для построения моделей на основе категориальных переменных необходимо создать dummy-переменные.\n",
    "Прежде чем это делать, сократим число классов значений.\n",
    "На данный момент в Category - 33 класса, в Content Rating - 6.\n",
    "\n",
    "Сгруппируем существующие категории в следующие: Games, Productivity, Education, Health_And_Fitness, Hobby, Lifestyle, Social, Entertainment.\n"
   ]
  },
  {
   "cell_type": "code",
   "execution_count": 45,
   "metadata": {},
   "outputs": [
    {
     "data": {
      "text/plain": [
       "Games                 2516\n",
       "Productivity          1507\n",
       "Education              846\n",
       "Health_And_Fitness     794\n",
       "Hobby                  688\n",
       "Lifestyle              665\n",
       "Social                 593\n",
       "Entertainment          572\n",
       "Name: Category, dtype: int64"
      ]
     },
     "execution_count": 45,
     "metadata": {},
     "output_type": "execute_result"
    }
   ],
   "source": [
    "df['Category'].replace('HEALTH_AND_FITNESS', 'Health_And_Fitness', inplace = True)\n",
    "df['Category'].replace('SPORTS', 'Health_And_Fitness', inplace = True)\n",
    "df['Category'].replace('MEDICAL', 'Health_And_Fitness', inplace = True)\n",
    "\n",
    "df['Category'].replace('EVENTS', 'Lifestyle', inplace = True)\n",
    "df['Category'].replace('FOOD_AND_DRINK', 'Lifestyle', inplace = True)\n",
    "df['Category'].replace('LIFESTYLE', 'Lifestyle', inplace = True)\n",
    "df['Category'].replace('SHOPPING', 'Lifestyle', inplace = True)\n",
    "df['Category'].replace('PARENTING', 'Lifestyle', inplace = True)\n",
    "\n",
    "df['Category'].replace('PERSONALIZATION', 'Productivity', inplace = True)\n",
    "df['Category'].replace('TOOLS', 'Productivity', inplace = True)\n",
    "df['Category'].replace('PRODUCTIVITY', 'Productivity', inplace = True)\n",
    "df['Category'].replace('WEATHER', 'Productivity', inplace = True)\n",
    "df['Category'].replace('MAPS_AND_NAVIGATION', 'Productivity', inplace = True)\n",
    "\n",
    "df['Category'].replace('GAME', 'Games', inplace = True)\n",
    "df['Category'].replace('FAMILY', 'Games', inplace = True)\n",
    "\n",
    "df['Category'].replace('COMICS', 'Entertainment', inplace = True)\n",
    "df['Category'].replace('ENTERTAINMENT', 'Entertainment', inplace = True)\n",
    "df['Category'].replace('LIBRARIES_AND_DEMO', 'Entertainment', inplace = True)\n",
    "df['Category'].replace('VIDEO_PLAYERS', 'Entertainment', inplace = True)\n",
    "df['Category'].replace('NEWS_AND_MAGAZINES', 'Entertainment', inplace = True)\n",
    "\n",
    "df['Category'].replace('COMMUNICATION', 'Social', inplace = True)\n",
    "df['Category'].replace('DATING', 'Social', inplace = True)\n",
    "df['Category'].replace('SOCIAL', 'Social', inplace = True)\n",
    "\n",
    "df['Category'].replace('BOOKS_AND_REFERENCE', 'Education', inplace = True)\n",
    "df['Category'].replace('EDUCATION', 'Education', inplace = True)\n",
    "df['Category'].replace('BUSINESS', 'Education', inplace = True)\n",
    "df['Category'].replace('FINANCE', 'Education', inplace = True)\n",
    "\n",
    "df['Category'].replace('ART_AND_DESIGN', 'Hobby', inplace = True)\n",
    "df['Category'].replace('AUTO_AND_VEHICLES', 'Hobby', inplace = True)\n",
    "df['Category'].replace('BEAUTY', 'Hobby', inplace = True)\n",
    "df['Category'].replace('HOUSE_AND_HOME', 'Hobby', inplace = True)\n",
    "df['Category'].replace('PHOTOGRAPHY', 'Hobby', inplace = True)\n",
    "df['Category'].replace('TRAVEL_AND_LOCAL', 'Hobby', inplace = True)\n",
    "df['Category'].value_counts()"
   ]
  },
  {
   "cell_type": "markdown",
   "metadata": {},
   "source": [
    "В Content Rating заменим Unrated на Everyone, Adults only 18+  на Mature 17+."
   ]
  },
  {
   "cell_type": "code",
   "execution_count": 46,
   "metadata": {},
   "outputs": [],
   "source": [
    "df['Content Rating'].replace('Adults only 18+', 'Mature 17+', inplace = True)\n",
    "df['Content Rating'].replace('Unrated', 'Everyone', inplace = True)"
   ]
  },
  {
   "cell_type": "markdown",
   "metadata": {},
   "source": [
    "Теперь создаем dummy-переменные."
   ]
  },
  {
   "cell_type": "code",
   "execution_count": 47,
   "metadata": {},
   "outputs": [
    {
     "name": "stdout",
     "output_type": "stream",
     "text": [
      "<class 'pandas.core.frame.DataFrame'>\n",
      "Int64Index: 8181 entries, 0 to 10840\n",
      "Data columns (total 16 columns):\n",
      "Rating                         8181 non-null float64\n",
      "Size                           8181 non-null float64\n",
      "Installs                       8181 non-null float64\n",
      "Price                          8181 non-null float64\n",
      "Category_Education             8181 non-null float64\n",
      "Category_Entertainment         8181 non-null float64\n",
      "Category_Games                 8181 non-null float64\n",
      "Category_Health_And_Fitness    8181 non-null float64\n",
      "Category_Hobby                 8181 non-null float64\n",
      "Category_Lifestyle             8181 non-null float64\n",
      "Category_Productivity          8181 non-null float64\n",
      "Category_Social                8181 non-null float64\n",
      "Content Rating_Everyone        8181 non-null float64\n",
      "Content Rating_Everyone 10+    8181 non-null float64\n",
      "Content Rating_Mature 17+      8181 non-null float64\n",
      "Content Rating_Teen            8181 non-null float64\n",
      "dtypes: float64(16)\n",
      "memory usage: 1.4 MB\n"
     ]
    }
   ],
   "source": [
    "data = pd.get_dummies(df, columns= [\"Category\", \"Content Rating\"])\n",
    "data.drop([\"App\",\"Reviews\"], axis=1, inplace=True)\n",
    "data = data.astype(float, casting='safe')\n",
    "data.info()"
   ]
  },
  {
   "cell_type": "code",
   "execution_count": 48,
   "metadata": {},
   "outputs": [],
   "source": [
    "# импорты\n",
    "from sklearn.model_selection import train_test_split\n",
    "from sklearn.linear_model import LogisticRegression\n",
    "from sklearn.tree import DecisionTreeClassifier\n",
    "from sklearn.tree import export_graphviz\n",
    "from sklearn.model_selection import cross_val_score"
   ]
  },
  {
   "cell_type": "code",
   "execution_count": 49,
   "metadata": {},
   "outputs": [],
   "source": [
    "data1 = data.drop([\"Installs\"], axis=1)\n",
    "X = data1.iloc[:,0:15].values \n",
    "y = data.iloc[:,2].values\n",
    "\n",
    "X_train, X_test, y_train, y_test = train_test_split(X, y, test_size = 0.2, random_state = 0)"
   ]
  },
  {
   "cell_type": "code",
   "execution_count": 50,
   "metadata": {},
   "outputs": [
    {
     "name": "stdout",
     "output_type": "stream",
     "text": [
      "0.8528422982885085 0.15271838729383017\n"
     ]
    }
   ],
   "source": [
    "# дерево\n",
    "dtree = DecisionTreeClassifier()\n",
    "dtree.fit(X_train, y_train)\n",
    "print(dtree.score(X_train, y_train), dtree.score(X_test, y_test))"
   ]
  },
  {
   "cell_type": "markdown",
   "metadata": {},
   "source": [
    "Очевидно, что имеет место переобучение - дерево потеряло способность к обобщению.\n",
    "Попробуем ограничить число листовых вершин."
   ]
  },
  {
   "cell_type": "code",
   "execution_count": 51,
   "metadata": {},
   "outputs": [
    {
     "name": "stdout",
     "output_type": "stream",
     "text": [
      "0.25488997555012227 0.21624923640806354\n"
     ]
    }
   ],
   "source": [
    "dtree = DecisionTreeClassifier(max_leaf_nodes = 40)\n",
    "dtree.fit(X_train, y_train)\n",
    "print(dtree.score(X_train, y_train), dtree.score(X_test, y_test))"
   ]
  },
  {
   "cell_type": "markdown",
   "metadata": {},
   "source": [
    "Эксперименты с количеством \"листов\" показали, что оптимальное соотношение между результатами на обучающей и на тестовой выборках достигаются при 40 крайних вершинах. Однако, модель все еще плохая.\n",
    "\n",
    "Попробуем построить регрессию (данные разбиты по порядкам, поэтому логистическая справляется лучше линейной)."
   ]
  },
  {
   "cell_type": "code",
   "execution_count": 55,
   "metadata": {},
   "outputs": [
    {
     "name": "stderr",
     "output_type": "stream",
     "text": [
      "c:\\python36\\lib\\site-packages\\sklearn\\linear_model\\logistic.py:432: FutureWarning: Default solver will be changed to 'lbfgs' in 0.22. Specify a solver to silence this warning.\n",
      "  FutureWarning)\n",
      "c:\\python36\\lib\\site-packages\\sklearn\\linear_model\\logistic.py:459: FutureWarning: Default multi_class will be changed to 'auto' in 0.22. Specify the multi_class option to silence this warning.\n",
      "  \"this warning.\", FutureWarning)\n"
     ]
    },
    {
     "name": "stdout",
     "output_type": "stream",
     "text": [
      "0.21286674816625917 0.20158827122785583\n"
     ]
    },
    {
     "name": "stderr",
     "output_type": "stream",
     "text": [
      "c:\\python36\\lib\\site-packages\\sklearn\\model_selection\\_split.py:626: Warning: The least populated class in y has only 2 members, which is too few. The minimum number of members in any class cannot be less than n_splits=3.\n",
      "  % (min_groups, self.n_splits)), Warning)\n",
      "c:\\python36\\lib\\site-packages\\sklearn\\linear_model\\logistic.py:432: FutureWarning: Default solver will be changed to 'lbfgs' in 0.22. Specify a solver to silence this warning.\n",
      "  FutureWarning)\n",
      "c:\\python36\\lib\\site-packages\\sklearn\\linear_model\\logistic.py:459: FutureWarning: Default multi_class will be changed to 'auto' in 0.22. Specify the multi_class option to silence this warning.\n",
      "  \"this warning.\", FutureWarning)\n",
      "c:\\python36\\lib\\site-packages\\sklearn\\linear_model\\logistic.py:432: FutureWarning: Default solver will be changed to 'lbfgs' in 0.22. Specify a solver to silence this warning.\n",
      "  FutureWarning)\n",
      "c:\\python36\\lib\\site-packages\\sklearn\\linear_model\\logistic.py:459: FutureWarning: Default multi_class will be changed to 'auto' in 0.22. Specify the multi_class option to silence this warning.\n",
      "  \"this warning.\", FutureWarning)\n",
      "c:\\python36\\lib\\site-packages\\sklearn\\linear_model\\logistic.py:432: FutureWarning: Default solver will be changed to 'lbfgs' in 0.22. Specify a solver to silence this warning.\n",
      "  FutureWarning)\n",
      "c:\\python36\\lib\\site-packages\\sklearn\\linear_model\\logistic.py:459: FutureWarning: Default multi_class will be changed to 'auto' in 0.22. Specify the multi_class option to silence this warning.\n",
      "  \"this warning.\", FutureWarning)\n"
     ]
    },
    {
     "data": {
      "text/plain": [
       "0.20705514035849149"
      ]
     },
     "execution_count": 55,
     "metadata": {},
     "output_type": "execute_result"
    }
   ],
   "source": [
    "from sklearn.linear_model import LogisticRegression\n",
    "from sklearn.model_selection import cross_val_score\n",
    "\n",
    "# логистическая регрессия\n",
    "logreg = LogisticRegression()\n",
    "logreg.fit(X_train, y_train)\n",
    "print(logreg.score(X_train, y_train), logreg.score(X_test, y_test))\n",
    "\n",
    "results = cross_val_score(logreg, X_train, y_train, cv=3)\n",
    "# результаты кросс-валидации\n",
    "results.mean()"
   ]
  },
  {
   "cell_type": "markdown",
   "metadata": {},
   "source": [
    "Эксперименты с другими видами моделей не дали улучшения результата (0.20 у регрессии, 0,22 у градиентного бустинга), из чего можно сделать вывод, что на основе исходных данных нельзя сделать однозначный вывод об успешности приложения. Об этом говорит и практика - успех игр или других приложений зависит от дизайна, удобства использования, маркетинга и многих других факторов. "
   ]
  }
 ],
 "metadata": {
  "kernelspec": {
   "display_name": "Python 3",
   "language": "python",
   "name": "python3"
  },
  "language_info": {
   "codemirror_mode": {
    "name": "ipython",
    "version": 3
   },
   "file_extension": ".py",
   "mimetype": "text/x-python",
   "name": "python",
   "nbconvert_exporter": "python",
   "pygments_lexer": "ipython3",
   "version": "3.6.3"
  }
 },
 "nbformat": 4,
 "nbformat_minor": 2
}
